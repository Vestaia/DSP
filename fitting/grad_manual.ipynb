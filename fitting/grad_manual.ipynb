{
 "cells": [
  {
   "cell_type": "code",
   "execution_count": 7,
   "metadata": {
    "tags": []
   },
   "outputs": [
    {
     "name": "stdout",
     "output_type": "stream",
     "text": [
      "PyTorch is using device: cpu\n"
     ]
    }
   ],
   "source": [
    "import torch\n",
    "import torch.nn as nn\n",
    "import torch.nn.functional as F\n",
    "import torch.optim as optim\n",
    "import numpy as np\n",
    "import matplotlib.pyplot as plt\n",
    "import torch.autograd.profiler as profiler\n",
    "\n",
    "device = torch.device(\"cuda:0\" if torch.cuda.is_available() else \"cpu\")\n",
    "device = \"cpu\"\n",
    "print(\"PyTorch is using device:\", device)\n",
    "\n",
    "def const(x):\n",
    "    return 1\n",
    "\n",
    "def linear(x):\n",
    "    return x\n",
    "\n",
    "def quad(x):\n",
    "    return x ** 2\n",
    "\n",
    "def cubic(x):\n",
    "    return x ** 3\n",
    "\n",
    "def quartic(x):\n",
    "    return x ** 4\n",
    "\n",
    "def quintic(x):\n",
    "    return x ** 5\n",
    "\n",
    "def exp(x):\n",
    "    return torch.exp(x)\n",
    "\n",
    "# Mean square error\n",
    "class MSE(torch.nn.Module):\n",
    "    def __init__(self):\n",
    "        super().__init__()\n",
    "\n",
    "    def forward(self, y_t, y_prime_t):\n",
    "        error = torch.pow(y_t - y_prime_t, 2)\n",
    "        return torch.sum(error)\n",
    "\n",
    "class LogCoshLoss(torch.nn.Module):\n",
    "    def __init__(self):\n",
    "        super().__init__()\n",
    "\n",
    "    def forward(self, y_t, y_prime_t):\n",
    "        ey_t = 10* (y_t - y_prime_t)\n",
    "        return torch.mean(torch.log(torch.cosh(ey_t)))\n",
    "\n",
    "        \n",
    "def design_matrix(times, basis):\n",
    "    mat = torch.DoubleTensor([[func(time) for func in basis] for time in times])\n",
    "    return mat\n",
    "\n",
    "def ls_fit(xdata, ydata, design_mat):\n",
    "    pseudo_inv = torch.linalg.pinv(design_mat)\n",
    "    return torch.sum(pseudo_inv * ydata, dim = 1)\n",
    "\n",
    "def piecewise_fit(x, y, slice_loc, design_mat):\n",
    "    calc = MSE()\n",
    "    segments = slice_loc.shape[0] + 1\n",
    "    samples = x.shape[0]\n",
    "    fit = torch.empty_like(y).to(device)\n",
    "    for i in range(segments):\n",
    "        if (i == 0):\n",
    "            ind = [0,int(slice_loc[0])]\n",
    "        elif (i == segments - 1):\n",
    "            ind = [int(slice_loc[-1]),samples]\n",
    "        else:\n",
    "            ind = [int(slice_loc[i-1]),int(slice_loc[i])]\n",
    "\n",
    "        xdata = x[ind[0]:ind[1]]\n",
    "        ydata = y[ind[0]:ind[1]]\n",
    "        mat = design_mat[ind[0]:ind[1]]\n",
    "        fit_params = ls_fit(xdata, ydata, mat)\n",
    "        fit[ind[0]:ind[1]] = torch.sum(mat * fit_params, dim=1)\n",
    "    loss = calc(y, fit)\n",
    "    return [fit, loss]\n",
    "\n",
    "\n",
    "class Slicer(nn.Module):\n",
    "    def __init__(self, segments, times, basis):\n",
    "        super().__init__()\n",
    "        torch.autograd.set_grad_enabled(False)\n",
    "        self.times = times\n",
    "        self.samples = times.shape[0]\n",
    "        self.segments = segments\n",
    "        self.basis = basis\n",
    "        self.design_mat = design_matrix(self.times, self.basis).to(device)\n",
    "        self.register_parameter(name='slice_loc', param = torch.nn.Parameter(torch.sort(self.samples * torch.rand(self.segments - 1))[0].to(device)))\n",
    "    def forward(self, y):\n",
    "        self.slice_loc[torch.where(self.slice_loc < 0)] = 0\n",
    "        self.slice_loc[torch.where(self.slice_loc >= self.samples)] = self.samples - 1\n",
    "        return piecewise_fit(self.times, y, self.slice_loc, self.design_mat)\n",
    "\n",
    "def optimize(model, optim, y, iter=100):\n",
    "    grad = torch.empty_like(model.slice_loc)\n",
    "    for j in range(iter):\n",
    "        for i, param in enumerate(model.slice_loc):\n",
    "            param += 1\n",
    "            _,lossp = model(y)\n",
    "            param -= 2\n",
    "            _,lossn = model(y)\n",
    "            param += 1\n",
    "            grad[i] = (lossp-lossn) \n",
    "        model.slice_loc.grad = grad\n",
    "        optim.step()\n",
    "    \n",
    "def random_search(model, y, samples=10000):\n",
    "    best = model.slice_loc\n",
    "    _,bestloss = model(y)\n",
    "    for i in range(samples):\n",
    "        model.slice_loc = torch.nn.Parameter(torch.sort(y.shape[0] * torch.rand_like(model.slice_loc))[0].to(device))\n",
    "        if (model(y)[1] < bestloss):\n",
    "            best = model.slice_loc\n",
    "            _,bestloss = model(y)\n",
    "    return best"
   ]
  },
  {
   "cell_type": "code",
   "execution_count": 31,
   "metadata": {
    "scrolled": false
   },
   "outputs": [
    {
     "name": "stdout",
     "output_type": "stream",
     "text": [
      "tensor(457.2421)\n",
      "[Parameter containing:\n",
      "tensor([213.9473, 312.4983, 458.0847, 482.8566, 615.0217], requires_grad=True)]\n"
     ]
    },
    {
     "data": {
      "image/png": "[encoded data removed]",
      "text/plain": [
       "<Figure size 432x288 with 1 Axes>"
      ]
     },
     "metadata": {
      "needs_background": "light"
     },
     "output_type": "display_data"
    },
    {
     "name": "stdout",
     "output_type": "stream",
     "text": [
      "tensor(2.7601)\n",
      "tensor(2.7370)\n",
      "tensor(2.7352)\n",
      "tensor(2.7319)\n",
      "tensor(2.7324)\n",
      "tensor(2.7304)\n",
      "tensor(2.7282)\n",
      "tensor(2.7283)\n",
      "tensor(2.7277)\n",
      "tensor(2.7276)\n",
      "[Parameter containing:\n",
      "tensor([105.9456, 344.0995, 407.9345, 693.7808, 756.0114], requires_grad=True)]\n"
     ]
    },
    {
     "data": {
      "image/png": "[encoded data removed]",
      "text/plain": [
       "<Figure size 432x288 with 1 Axes>"
      ]
     },
     "metadata": {
      "needs_background": "light"
     },
     "output_type": "display_data"
    }
   ],
   "source": [
    "# Cuda is actually currently slower...\n",
    "# According to task manager, memory bandwith is heavily limited\n",
    "\n",
    "torch.manual_seed(10)\n",
    "t = torch.arange(0,10,0.01).to(device)\n",
    "y = torch.tan(torch.cos(t) + torch.sin(t)).to(device)\n",
    "basis = [const, linear, quad, cubic]\n",
    "segments = 6\n",
    "model = Slicer(segments, t, basis)\n",
    "fit, loss = model(y)\n",
    "print(loss)\n",
    "print(list(model.parameters()))\n",
    "plt.plot(t.cpu(), fit.cpu(), label=\"$\\chi^2$=%.2f\" % loss.item())\n",
    "plt.plot(t.cpu(), y.cpu())\n",
    "plt.legend()\n",
    "plt.show()\n",
    "\n",
    "# # \"Fast\" random search, no point for this without a GPU\n",
    "\n",
    "# model.slice_loc = random_search(model, y, 1000)\n",
    "# fit, loss = model(y)\n",
    "# print(loss)\n",
    "# print(list(model.parameters()))\n",
    "# plt.plot(t.cpu(), fit.cpu())\n",
    "# plt.plot(t.cpu(), y.cpu())\n",
    "# plt.show()\n",
    "\n",
    "\n",
    "# Optimizing using ADAM\n",
    "\n",
    "optim = torch.optim.Adam(model.parameters(), lr=5)\n",
    "for i in range(10):\n",
    "    optimize(model, optim, y, 100)\n",
    "    fit, loss = model(y)\n",
    "    print(loss)\n",
    "    \n",
    "\n",
    "print(list(model.parameters()))\n",
    "plt.plot(t.cpu(), fit.cpu(), label=\"$\\chi^2$=%.2f\" % loss.item())\n",
    "plt.plot(t.cpu(), y.cpu())\n",
    "plt.legend()\n",
    "plt.show()\n",
    "\n",
    "# # Profiling\n",
    "# optim = torch.optim.Adam(model.parameters(), lr=5)\n",
    "# with profiler.profile(with_stack=True, profile_memory=False, use_cuda=True) as prof:\n",
    "#     for i in range(1):\n",
    "#         optimize(model, optim, y, 5)\n",
    "#         fit, loss = model(y)\n",
    "#         print(loss)\n",
    "# print(prof.key_averages(group_by_stack_n=10).table(sort_by='self_cpu_time_total', row_limit=20))"
   ]
  },
  {
   "cell_type": "code",
   "execution_count": null,
   "metadata": {},
   "outputs": [],
   "source": []
  }
 ],
 "metadata": {
  "kernelspec": {
   "display_name": "Python 3",
   "language": "python",
   "name": "python3"
  },
  "language_info": {
   "codemirror_mode": {
    "name": "ipython",
    "version": 3
   },
   "file_extension": ".py",
   "mimetype": "text/x-python",
   "name": "python",
   "nbconvert_exporter": "python",
   "pygments_lexer": "ipython3",
   "version": "3.8.5"
  },
  "metadata": {
   "interpreter": {
    "hash": "ac2eaa0ea0ebeafcc7822e65e46aa9d4f966f30b695406963e145ea4a91cd4fc"
   }
  }
 },
 "nbformat": 4,
 "nbformat_minor": 2
}
