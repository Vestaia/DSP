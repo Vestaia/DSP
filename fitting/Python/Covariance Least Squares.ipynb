{
 "cells": [
  {
   "cell_type": "markdown",
   "metadata": {},
   "source": [
    "We want to calculate the covariance matrix of our background data.\n",
    "\n",
    "\n",
    "\n",
    "Fun fact: our covariance array is a Toeplitz matrix"
   ]
  },
  {
   "cell_type": "code",
   "execution_count": 155,
   "metadata": {},
   "outputs": [],
   "source": [
    "import torch\n",
    "import torch.nn.functional as F\n",
    "import numpy as np\n",
    "import matplotlib.pyplot as plt\n",
    "import scipy.linalg\n",
    "\n",
    "device = torch.device(\"cuda:0\" if torch.cuda.is_available() else \"cpu\")"
   ]
  },
  {
   "cell_type": "code",
   "execution_count": 156,
   "metadata": {},
   "outputs": [],
   "source": [
    "full_time_series = torch.from_numpy(np.loadtxt(\"./data/background_0.dat\", dtype=np.float32))\n",
    "full_time_series = full_time_series.to(device)\n",
    "\n",
    "time_series = full_time_series"
   ]
  },
  {
   "cell_type": "code",
   "execution_count": 172,
   "metadata": {},
   "outputs": [
    {
     "name": "stdout",
     "output_type": "stream",
     "text": [
      "Cuda not supported or something like that\n",
      "Current GPU MB allocated: 0.0\n",
      "Max GPU MB allocated: 0.0\n"
     ]
    }
   ],
   "source": [
    "try:\n",
    "    torch.cuda.reset_peak_memory_stats()\n",
    "except:\n",
    "    print(\"Cuda not supported or something like that\")\n",
    "\n",
    "cov_mat_row_one = []\n",
    "means = []\n",
    "\n",
    "sliding_window_size = 1000\n",
    "batch_size = 100 # experimental so it runs well, must divide sliding_window_size evenly\n",
    "\n",
    "y0_samples = time_series.unfold(0, sliding_window_size, 1).T[0]\n",
    "y0_diff = y0_samples - torch.mean(y0_samples)\n",
    "\n",
    "for i in range(int(sliding_window_size / batch_size)):\n",
    "    samples = time_series.unfold(0, sliding_window_size, 1).T[i * batch_size:(i + 1) * batch_size]\n",
    "    mean = torch.mean(samples, dim=1)\n",
    "    diff = (samples.T - mean).T\n",
    "    cov_mat_row_one.append(diff @ y0_diff / y0_samples.shape[0])\n",
    "    means.append(mean)\n",
    "    del samples\n",
    "    del mean\n",
    "    del diff\n",
    "\n",
    "# clear memory\n",
    "with torch.no_grad(): # not sure if this line is correct\n",
    "    torch.cuda.empty_cache()\n",
    "    \n",
    "cov_mat_row_one = torch.flatten(torch.stack(cov_mat_row_one))\n",
    "means = torch.flatten(torch.stack(means))\n",
    "\n",
    "print(\"Current GPU MB allocated: \" + str(torch.cuda.memory_allocated() / 1024 / 1024))\n",
    "print(\"Max GPU MB allocated: \" + str(torch.cuda.max_memory_allocated() / 1024 / 1024))"
   ]
  },
  {
   "cell_type": "code",
   "execution_count": 173,
   "metadata": {},
   "outputs": [
    {
     "name": "stdout",
     "output_type": "stream",
     "text": [
      "Cuda not supported or something like that\n",
      "Current GPU MB allocated: 0.0\n",
      "Max GPU MB allocated: 0.0\n"
     ]
    }
   ],
   "source": [
    "try:\n",
    "    torch.cuda.reset_peak_memory_stats()\n",
    "except:\n",
    "    print(\"Cuda not supported or something like that\")\n",
    "\n",
    "cov_mat = torch.Tensor(scipy.linalg.toeplitz(cov_mat_row_one.cpu().numpy())).to(device)\n",
    "inv_cov_mat = torch.inverse(cov_mat)\n",
    "\n",
    "print(\"Current GPU MB allocated: \" + str(torch.cuda.memory_allocated() / 1024 / 1024))\n",
    "print(\"Max GPU MB allocated: \" + str(torch.cuda.max_memory_allocated() / 1024 / 1024))"
   ]
  },
  {
   "cell_type": "code",
   "execution_count": 174,
   "metadata": {},
   "outputs": [],
   "source": [
    "torch.save(cov_mat, \"saved_tensors/cov_mat_0_1000.pt\")\n",
    "torch.save(inv_cov_mat,\"saved_tensors/inv_cov_mat_0_1000.pt\")"
   ]
  },
  {
   "cell_type": "code",
   "execution_count": 175,
   "metadata": {},
   "outputs": [
    {
     "name": "stdout",
     "output_type": "stream",
     "text": [
      "tensor([[21.2222,  0.2054,  0.5550,  ...,  0.1212,  0.1268,  0.1557],\n",
      "        [ 0.2054, 21.2222,  0.2054,  ...,  0.1578,  0.1212,  0.1268],\n",
      "        [ 0.5550,  0.2054, 21.2222,  ...,  0.1501,  0.1578,  0.1212],\n",
      "        ...,\n",
      "        [ 0.1212,  0.1578,  0.1501,  ..., 21.2222,  0.2054,  0.5550],\n",
      "        [ 0.1268,  0.1212,  0.1578,  ...,  0.2054, 21.2222,  0.2054],\n",
      "        [ 0.1557,  0.1268,  0.1212,  ...,  0.5550,  0.2054, 21.2222]])\n",
      "tensor([[ 4.7936e-02,  3.0573e-04, -4.9590e-04,  ...,  2.7514e-05,\n",
      "          1.4259e-05, -5.8333e-05],\n",
      "        [ 3.0573e-04,  4.7938e-02,  3.0258e-04,  ..., -5.4633e-05,\n",
      "          2.7001e-05,  1.4259e-05],\n",
      "        [-4.9590e-04,  3.0258e-04,  4.7943e-02,  ..., -4.2626e-05,\n",
      "         -5.4633e-05,  2.7514e-05],\n",
      "        ...,\n",
      "        [ 2.7514e-05, -5.4633e-05, -4.2626e-05,  ...,  4.7943e-02,\n",
      "          3.0258e-04, -4.9590e-04],\n",
      "        [ 1.4259e-05,  2.7001e-05, -5.4633e-05,  ...,  3.0258e-04,\n",
      "          4.7938e-02,  3.0573e-04],\n",
      "        [-5.8333e-05,  1.4259e-05,  2.7514e-05,  ..., -4.9590e-04,\n",
      "          3.0573e-04,  4.7936e-02]])\n"
     ]
    }
   ],
   "source": [
    "print(cov_mat)\n",
    "print(inv_cov_mat)"
   ]
  },
  {
   "cell_type": "markdown",
   "metadata": {},
   "source": [
    "Now let's do the Least Squares with it"
   ]
  },
  {
   "cell_type": "code",
   "execution_count": 176,
   "metadata": {},
   "outputs": [],
   "source": [
    "def const(x):\n",
    "    return 1\n",
    "\n",
    "def linear(x):\n",
    "    return x\n",
    "\n",
    "def quad(x):\n",
    "    return x ** 2\n",
    "\n",
    "def cubic(x):\n",
    "    return x ** 3\n",
    "\n",
    "def quartic(x):\n",
    "    return x ** 4\n",
    "\n",
    "def quintic(x):\n",
    "    return x ** 5\n",
    "\n",
    "def exp(x):\n",
    "    return torch.exp(x)\n",
    "\n",
    "def design_matrix(times, basis):\n",
    "    mat = torch.Tensor([[func(time) for func in basis] for time in times])\n",
    "    return mat\n",
    "\n",
    "def ls_fit(xdata, ydata, psuedo_inv):\n",
    "    return torch.sum(pseudo_inv * ydata, dim = 1)"
   ]
  },
  {
   "cell_type": "code",
   "execution_count": 177,
   "metadata": {},
   "outputs": [
    {
     "data": {
      "image/png": "[encoded data removed]",
      "text/plain": [
       "<Figure size 432x288 with 1 Axes>"
      ]
     },
     "metadata": {
      "needs_background": "light"
     },
     "output_type": "display_data"
    },
    {
     "data": {
      "image/png": "[encoded data removed]",
      "text/plain": [
       "<Figure size 432x288 with 1 Axes>"
      ]
     },
     "metadata": {
      "needs_background": "light"
     },
     "output_type": "display_data"
    }
   ],
   "source": [
    "x_data = torch.linspace(0, 10, 1000)\n",
    "y_data = x_data * torch.sin(x_data)\n",
    "\n",
    "basis = [const, linear, quad, cubic, quartic, quintic, hextic]\n",
    "\n",
    "\n",
    "design_mat = design_matrix(x_data, basis)\n",
    "pseudo_inv = torch.linalg.pinv(design_mat)\n",
    "\n",
    "fit_params = ls_fit(x_data, y_data, pseudo_inv)\n",
    "\n",
    "fit = torch.sum(design_mat * fit_params, dim=1)\n",
    "\n",
    "plt.plot(x_data, y_data)\n",
    "plt.plot(x_data, fit)\n",
    "\n",
    "plt.show()\n",
    "\n",
    "fit_params_cov_mat = pseudo_inv @ (cov_mat @ pseudo_inv.T)\n",
    "\n",
    "plt.imshow(fit_params_cov_mat)\n",
    "plt.show()"
   ]
  },
  {
   "cell_type": "code",
   "execution_count": null,
   "metadata": {},
   "outputs": [],
   "source": []
  }
 ],
 "metadata": {
  "kernelspec": {
   "display_name": "Python 3",
   "language": "python",
   "name": "python3"
  },
  "language_info": {
   "codemirror_mode": {
    "name": "ipython",
    "version": 3
   },
   "file_extension": ".py",
   "mimetype": "text/x-python",
   "name": "python",
   "nbconvert_exporter": "python",
   "pygments_lexer": "ipython3",
   "version": "3.7.3"
  }
 },
 "nbformat": 4,
 "nbformat_minor": 2
}
