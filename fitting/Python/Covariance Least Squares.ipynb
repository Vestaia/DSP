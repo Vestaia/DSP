{
 "cells": [
  {
   "cell_type": "markdown",
   "metadata": {},
   "source": [
    "We want to calculate the covariance matrix of our background data.\n",
    "\n"
   ]
  },
  {
   "cell_type": "code",
   "execution_count": 1,
   "metadata": {},
   "outputs": [],
   "source": [
    "import torch\n",
    "import torch.nn.functional as F\n",
    "import numpy as np\n",
    "import matplotlib.pyplot as plt\n",
    "\n",
    "device = torch.device(\"cuda:0\" if torch.cuda.is_available() else \"cpu\")"
   ]
  },
  {
   "cell_type": "code",
   "execution_count": 27,
   "metadata": {},
   "outputs": [],
   "source": [
    "full_time_series = torch.from_numpy(np.loadtxt(\"./data/background_0.dat\", dtype=np.float32))\n",
    "full_time_series = full_time_series.to(device)"
   ]
  },
  {
   "cell_type": "code",
   "execution_count": 38,
   "metadata": {},
   "outputs": [],
   "source": [
    "time_series = full_time_series[0:100000]"
   ]
  },
  {
   "cell_type": "code",
   "execution_count": 53,
   "metadata": {},
   "outputs": [
    {
     "name": "stdout",
     "output_type": "stream",
     "text": [
      "tensor([[21.2198,  0.1462,  0.3845,  0.1484,  0.2283],\n",
      "        [ 0.1462, 21.2198,  0.1462,  0.3844,  0.1483],\n",
      "        [ 0.3845,  0.1462, 21.2197,  0.1459,  0.3842],\n",
      "        [ 0.1484,  0.3844,  0.1459, 21.2191,  0.1456],\n",
      "        [ 0.2283,  0.1483,  0.3842,  0.1456, 21.2192]])\n"
     ]
    }
   ],
   "source": [
    "#time_series = torch.normal(10, 1, size=(1, 1000000),dtype=torch.float32)[0]\n",
    "\n",
    "# sliding window of size 5, rows are the waveform slices\n",
    "windows = time_series.unfold(0,5,1)\n",
    "\n",
    "# windows.T is rows of our random variables, take mean per row\n",
    "means = torch.mean(windows.T, axis=1)\n",
    "\n",
    "# windows - means subtracts means of each var from each window, so now it is window of differences from mean\n",
    "cov_mat = (windows - means).T @ (windows - means) * (1.0 / (windows.shape[0]))\n",
    "#inv_cov_mat = torch.inverse(cov_mat)\n",
    "\n",
    "print(cov_mat)\n",
    "#print(inv_cov_mat)\n",
    "\n",
    "#print(cov_mat @ inv_cov_mat)"
   ]
  },
  {
   "cell_type": "code",
   "execution_count": 52,
   "metadata": {},
   "outputs": [
    {
     "name": "stdout",
     "output_type": "stream",
     "text": [
      "tensor([27.7363,  3.1055,  3.3945,  2.8398,  2.9883])\n"
     ]
    }
   ],
   "source": [
    "# This algorithm is numerically unstable\n",
    "\n",
    "\n",
    "\n",
    "sliding_window_size = 5\n",
    "\n",
    "# sliding window of size 5, rows are the waveform slices\n",
    "windows = time_series.unfold(0, sliding_window_size, 1)\n",
    "\n",
    "# windows.T is rows of our random variables, take mean per row\n",
    "means = torch.mean(windows.T, axis=1)\n",
    "\n",
    "cov_row_one = F.conv1d(time_series.view(1, 1, -1), time_series.view(1, 1, -1)[:,:,0:time_series.shape[0] + 1 - sliding_window_size]) / (time_series.shape[0] + 1 - sliding_window_size) - means * means[0]\n",
    "\n",
    "print(cov_row_one[0,0])"
   ]
  },
  {
   "cell_type": "code",
   "execution_count": null,
   "metadata": {},
   "outputs": [],
   "source": []
  }
 ],
 "metadata": {
  "kernelspec": {
   "display_name": "Python 3",
   "language": "python",
   "name": "python3"
  },
  "language_info": {
   "codemirror_mode": {
    "name": "ipython",
    "version": 3
   },
   "file_extension": ".py",
   "mimetype": "text/x-python",
   "name": "python",
   "nbconvert_exporter": "python",
   "pygments_lexer": "ipython3",
   "version": "3.7.3"
  }
 },
 "nbformat": 4,
 "nbformat_minor": 2
}
