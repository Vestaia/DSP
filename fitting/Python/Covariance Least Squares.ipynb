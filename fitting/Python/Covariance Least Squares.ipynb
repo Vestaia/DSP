{
 "cells": [
  {
   "cell_type": "markdown",
   "metadata": {},
   "source": [
    "We want to calculate the covariance matrix of our background data.\n",
    "\n"
   ]
  },
  {
   "cell_type": "code",
   "execution_count": 36,
   "metadata": {},
   "outputs": [],
   "source": [
    "import torch\n",
    "import torch.nn.functional as F\n",
    "import numpy as np\n",
    "import matplotlib.pyplot as plt\n",
    "\n",
    "device = torch.device(\"cuda:0\" if torch.cuda.is_available() else \"cpu\")"
   ]
  },
  {
   "cell_type": "code",
   "execution_count": 261,
   "metadata": {},
   "outputs": [],
   "source": [
    "full_time_series = torch.from_numpy(np.loadtxt(\"./data/background_0.dat\", dtype=np.float32))\n",
    "full_time_series = time_series.to(device)"
   ]
  },
  {
   "cell_type": "code",
   "execution_count": 269,
   "metadata": {},
   "outputs": [],
   "source": [
    "time_series = full_time_series[0:10000]"
   ]
  },
  {
   "cell_type": "code",
   "execution_count": 270,
   "metadata": {},
   "outputs": [
    {
     "name": "stdout",
     "output_type": "stream",
     "text": [
      "tensor([[ 1.0211,  0.0114,  0.0116, -0.0081, -0.0206],\n",
      "        [ 0.0114,  1.0211,  0.0113,  0.0116, -0.0081],\n",
      "        [ 0.0116,  0.0113,  1.0211,  0.0112,  0.0115],\n",
      "        [-0.0081,  0.0116,  0.0112,  1.0212,  0.0113],\n",
      "        [-0.0206, -0.0081,  0.0115,  0.0113,  1.0212]])\n"
     ]
    }
   ],
   "source": [
    "#time_series = torch.normal(10, 1, size=(1, 1000000),dtype=torch.float32)[0]\n",
    "\n",
    "# sliding window of size 5, rows are the waveform slices\n",
    "windows = time_series.unfold(0,5,1)\n",
    "\n",
    "# windows.T is rows of our random variables, take mean per row\n",
    "means = torch.mean(windows.T, axis=1)\n",
    "\n",
    "# windows - means subtracts means of each var from each window, so now it is window of differences from mean\n",
    "cov_mat = (windows - means).T @ (windows - means) * (1.0 / (windows.shape[0]))\n",
    "#inv_cov_mat = torch.inverse(cov_mat)\n",
    "\n",
    "print(cov_mat)\n",
    "#print(inv_cov_mat)\n",
    "\n",
    "#print(cov_mat @ inv_cov_mat)"
   ]
  },
  {
   "cell_type": "code",
   "execution_count": 271,
   "metadata": {},
   "outputs": [
    {
     "name": "stdout",
     "output_type": "stream",
     "text": [
      "tensor([ 1.0213,  0.0113,  0.0116, -0.0083, -0.0208])\n"
     ]
    }
   ],
   "source": [
    "sliding_window_size = 5\n",
    "\n",
    "# sliding window of size 5, rows are the waveform slices\n",
    "windows = time_series.unfold(0, sliding_window_size, 1)\n",
    "\n",
    "# windows.T is rows of our random variables, take mean per row\n",
    "means = torch.mean(windows.T, axis=1)\n",
    "\n",
    "cov_row_one = F.conv1d(time_series.view(1, 1, -1), time_series.view(1, 1, -1)[:,:,0:time_series.shape[0] + 1 - sliding_window_size]) / (time_series.shape[0] + 1 - sliding_window_size) - means * means[0]\n",
    "\n",
    "print(cov_row_one[0,0])"
   ]
  },
  {
   "cell_type": "code",
   "execution_count": 222,
   "metadata": {},
   "outputs": [
    {
     "data": {
      "text/plain": [
       "tensor([[[ 55.,  70.,  85., 100., 115.]]])"
      ]
     },
     "execution_count": 222,
     "metadata": {},
     "output_type": "execute_result"
    }
   ],
   "source": [
    "F.conv1d(time_series.view(1, 1, -1), time_series.view(1, 1, -1)[:,:,0:time_series.shape[0] + 1 - sliding_window_size])"
   ]
  },
  {
   "cell_type": "code",
   "execution_count": 232,
   "metadata": {},
   "outputs": [
    {
     "data": {
      "text/plain": [
       "tensor([2.5000, 3.5000, 4.5000, 5.5000, 6.5000])"
      ]
     },
     "execution_count": 232,
     "metadata": {},
     "output_type": "execute_result"
    }
   ],
   "source": [
    "means"
   ]
  },
  {
   "cell_type": "code",
   "execution_count": 231,
   "metadata": {},
   "outputs": [
    {
     "data": {
      "text/plain": [
       "tensor([[[2.9167, 2.9167, 2.9167, 2.9167, 2.9167]]])"
      ]
     },
     "execution_count": 231,
     "metadata": {},
     "output_type": "execute_result"
    }
   ],
   "source": [
    "F.conv1d(time_series.view(1, 1, -1), time_series.view(1, 1, -1)[:,:,0:time_series.shape[0] + 1 - sliding_window_size]) / (time_series.shape[0] + 1 - sliding_window_size) - means * means[0]"
   ]
  },
  {
   "cell_type": "code",
   "execution_count": 242,
   "metadata": {},
   "outputs": [
    {
     "name": "stdout",
     "output_type": "stream",
     "text": [
      "6.25\n",
      "2.25\n",
      "0.25\n",
      "0.25\n",
      "2.25\n",
      "6.25\n"
     ]
    }
   ],
   "source": [
    "sum = 0\n",
    "\n",
    "for i in range(0,6):\n",
    "    print((i - 2.5) * (i + 1 - 3.5))\n",
    "    sum += (i - 2.5) * (i + 1 - 3.5)"
   ]
  },
  {
   "cell_type": "code",
   "execution_count": 237,
   "metadata": {},
   "outputs": [
    {
     "data": {
      "text/plain": [
       "2.9166666666666665"
      ]
     },
     "execution_count": 237,
     "metadata": {},
     "output_type": "execute_result"
    }
   ],
   "source": [
    "sum / 6"
   ]
  },
  {
   "cell_type": "code",
   "execution_count": 245,
   "metadata": {},
   "outputs": [
    {
     "data": {
      "text/plain": [
       "tensor([[2.9167, 2.9167, 2.9167, 2.9167, 2.9167],\n",
       "        [2.9167, 2.9167, 2.9167, 2.9167, 2.9167],\n",
       "        [2.9167, 2.9167, 2.9167, 2.9167, 2.9167],\n",
       "        [2.9167, 2.9167, 2.9167, 2.9167, 2.9167],\n",
       "        [2.9167, 2.9167, 2.9167, 2.9167, 2.9167]])"
      ]
     },
     "execution_count": 245,
     "metadata": {},
     "output_type": "execute_result"
    }
   ],
   "source": [
    "(windows - means).T @ (windows - means) / 6"
   ]
  },
  {
   "cell_type": "code",
   "execution_count": null,
   "metadata": {},
   "outputs": [],
   "source": []
  }
 ],
 "metadata": {
  "kernelspec": {
   "display_name": "Python 3",
   "language": "python",
   "name": "python3"
  },
  "language_info": {
   "codemirror_mode": {
    "name": "ipython",
    "version": 3
   },
   "file_extension": ".py",
   "mimetype": "text/x-python",
   "name": "python",
   "nbconvert_exporter": "python",
   "pygments_lexer": "ipython3",
   "version": "3.7.3"
  }
 },
 "nbformat": 4,
 "nbformat_minor": 2
}
