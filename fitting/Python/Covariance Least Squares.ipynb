{
 "cells": [
  {
   "cell_type": "markdown",
   "metadata": {},
   "source": [
    "Here is the regular least squares fitting"
   ]
  },
  {
   "cell_type": "code",
   "execution_count": null,
   "metadata": {},
   "outputs": [],
   "source": [
    "import torch\n",
    "import torch.nn.functional as F\n",
    "import numpy as np\n",
    "import matplotlib.pyplot as plt\n",
    "from mpl_toolkits.mplot3d import Axes3D\n",
    "import scipy.linalg\n",
    "\n",
    "def const(x):\n",
    "    return 1\n",
    "\n",
    "def linear(x):\n",
    "    return x\n",
    "\n",
    "def quad(x):\n",
    "    return x ** 2\n",
    "\n",
    "def cubic(x):\n",
    "    return x ** 3\n",
    "\n",
    "def quartic(x):\n",
    "    return x ** 4\n",
    "\n",
    "def quintic(x):\n",
    "    return x ** 5\n",
    "\n",
    "def exp(x):\n",
    "    return torch.exp(x)\n",
    "\n",
    "def design_matrix(times, basis):\n",
    "    mat = torch.Tensor([[func(time) for func in basis] for time in times])\n",
    "    return mat\n",
    "\n",
    "def ls_fit(xdata, ydata, psuedo_inv):\n",
    "    return torch.sum(pseudo_inv * ydata, dim = 1)\n",
    "\n",
    "def chi_sq(ydata, fit_params, design_mat, inv_cov_mat):\n",
    "    return ydata.T @ inv_cov_mat @ ydata - fit_params.T @ design_mat.T @ inv_cov_mat @ design_mat @ fit_params\n",
    "\n",
    "def set_axes_equal(ax):\n",
    "    '''Make axes of 3D plot have equal scale so that spheres appear as spheres,\n",
    "    cubes as cubes, etc..  This is one possible solution to Matplotlib's\n",
    "    ax.set_aspect('equal') and ax.axis('equal') not working for 3D.\n",
    "\n",
    "    Input\n",
    "      ax: a matplotlib axis, e.g., as output from plt.gca().\n",
    "    '''\n",
    "\n",
    "    x_limits = ax.get_xlim3d()\n",
    "    y_limits = ax.get_ylim3d()\n",
    "    z_limits = ax.get_zlim3d()\n",
    "\n",
    "    x_range = abs(x_limits[1] - x_limits[0])\n",
    "    x_middle = np.mean(x_limits)\n",
    "    y_range = abs(y_limits[1] - y_limits[0])\n",
    "    y_middle = np.mean(y_limits)\n",
    "    z_range = abs(z_limits[1] - z_limits[0])\n",
    "    z_middle = np.mean(z_limits)\n",
    "\n",
    "    # The plot bounding box is a sphere in the sense of the infinity\n",
    "    # norm, hence I call half the max range the plot radius.\n",
    "    plot_radius = 0.5*max([x_range, y_range, z_range])\n",
    "\n",
    "    ax.set_xlim3d([x_middle - plot_radius, x_middle + plot_radius])\n",
    "    ax.set_ylim3d([y_middle - plot_radius, y_middle + plot_radius])\n",
    "    ax.set_zlim3d([z_middle - plot_radius, z_middle + plot_radius])\n",
    "    \n",
    "def is_pos_def(x):\n",
    "    return np.all(np.linalg.eigvals(x) > 0)"
   ]
  },
  {
   "cell_type": "code",
   "execution_count": null,
   "metadata": {},
   "outputs": [],
   "source": [
    "x_data = torch.linspace(0, 10, 1000)\n",
    "y_data = x_data * torch.sin(x_data)\n",
    "\n",
    "basis = [const, linear, quad, cubic, quartic, quintic]\n",
    "\n",
    "cov_mat = torch.eye(1000) # constant variance, no point is better than another\n",
    "inv_cov_mat = torch.inverse(cov_mat)\n",
    "\n",
    "design_mat = design_matrix(x_data, basis)\n",
    "pseudo_inv = torch.linalg.pinv(design_mat)\n",
    "\n",
    "fit_params = ls_fit(x_data, y_data, pseudo_inv)\n",
    "\n",
    "fit = torch.sum(design_mat * fit_params, dim=1)\n",
    "\n",
    "chisq = chi_sq(y_data, fit_params, design_mat, inv_cov_mat)\n",
    "print(chisq)\n",
    "\n",
    "plt.plot(x_data, y_data)\n",
    "plt.plot(x_data, fit)\n",
    "\n",
    "plt.show()\n",
    "\n",
    "fit_params_cov_mat = pseudo_inv @ (cov_mat @ pseudo_inv.T)\n",
    "\n",
    "plt.imshow(fit_params_cov_mat)\n",
    "plt.show()"
   ]
  },
  {
   "cell_type": "markdown",
   "metadata": {},
   "source": [
    "We can do better though, if we know the covariance matrix of our input data. We can take that into account when doing the least squares fitting."
   ]
  },
  {
   "cell_type": "code",
   "execution_count": null,
   "metadata": {},
   "outputs": [],
   "source": [
    "x_data = torch.linspace(0, 10, 1000)\n",
    "y_data = x_data * torch.sin(x_data)\n",
    "\n",
    "basis = [const, linear, quad, cubic, quartic, quintic]\n",
    "\n",
    "inv_cov_mat = 200000 * torch.Tensor(scipy.linalg.hilbert(1000) ** 2) * torch.eye(1000)\n",
    "cov_mat = torch.inverse(inv_cov_mat)\n",
    "\n",
    "#cov_mat = torch.load(\"saved_tensors/cov_mat_background_0_1000.pt\")\n",
    "#inv_cov_mat = torch.load(\"saved_tensors/inv_cov_mat_background_0_1000.pt\")\n",
    "\n",
    "design_mat = design_matrix(x_data, basis)\n",
    "pseudo_inv = torch.inverse(design_mat.T @ inv_cov_mat @ design_mat) @ design_mat.T @ inv_cov_mat\n",
    "\n",
    "fit_params = ls_fit(x_data, y_data, pseudo_inv)\n",
    "\n",
    "fit = torch.sum(design_mat * fit_params, dim=1)\n",
    "\n",
    "chisq = chi_sq(y_data, fit_params, design_mat, inv_cov_mat)\n",
    "print(chisq)\n",
    "\n",
    "y_data_upper_err = y_data + torch.sqrt(torch.diag(cov_mat))\n",
    "y_data_lower_err = y_data - torch.sqrt(torch.diag(cov_mat))\n",
    "\n",
    "plt.fill_between(x_data, y_data_lower_err, y_data_upper_err, alpha=0.5)\n",
    "plt.plot(x_data, y_data, label=\"input\")\n",
    "plt.plot(x_data, fit, label=\"fit\")\n",
    "\n",
    "plt.legend()\n",
    "\n",
    "plt.show()\n",
    "\n",
    "fit_params_cov_mat = pseudo_inv @ (cov_mat @ pseudo_inv.T)\n",
    "\n",
    "img = plt.imshow(fit_params_cov_mat)\n",
    "plt.colorbar(img)\n",
    "\n",
    "plt.show()"
   ]
  },
  {
   "cell_type": "markdown",
   "metadata": {},
   "source": [
    "The chi square in the case where we know the covariance matrix is much lower. Why? Because I set the variance to be very large. The calculation isn't weighting those points hardly at all, because of the large error bound on them.\n",
    "\n",
    "Let's try the fit again but with good error bars on the right side of the fit"
   ]
  },
  {
   "cell_type": "code",
   "execution_count": null,
   "metadata": {},
   "outputs": [],
   "source": [
    "x_data = torch.linspace(0, 10, 1000)\n",
    "y_data = x_data * torch.sin(x_data)\n",
    "\n",
    "basis = [const, linear, quad, cubic, quartic, quintic]\n",
    "\n",
    "cov_mat = torch.sqrt(torch.Tensor(1000 * scipy.linalg.hilbert(1000)) * torch.eye(1000))\n",
    "inv_cov_mat = torch.inverse(cov_mat)\n",
    "\n",
    "design_mat = design_matrix(x_data, basis)\n",
    "pseudo_inv = torch.inverse(design_mat.T @ inv_cov_mat @ design_mat) @ design_mat.T @ inv_cov_mat\n",
    "\n",
    "fit_params = ls_fit(x_data, y_data, pseudo_inv)\n",
    "\n",
    "fit = torch.sum(design_mat * fit_params, dim=1)\n",
    "\n",
    "chisq = chi_sq(y_data, fit_params, design_mat, inv_cov_mat)\n",
    "print(chisq)\n",
    "\n",
    "y_data_upper_err = y_data + torch.sqrt(torch.diag(cov_mat))\n",
    "y_data_lower_err = y_data - torch.sqrt(torch.diag(cov_mat))\n",
    "\n",
    "plt.fill_between(x_data, y_data_lower_err, y_data_upper_err, alpha=0.5)\n",
    "plt.plot(x_data, y_data, label=\"input\")\n",
    "plt.plot(x_data, fit, label=\"fit\")\n",
    "\n",
    "plt.legend()\n",
    "\n",
    "plt.show()\n",
    "\n",
    "fit_params_cov_mat = pseudo_inv @ (cov_mat @ pseudo_inv.T)\n",
    "\n",
    "img = plt.imshow(fit_params_cov_mat)\n",
    "plt.colorbar(img)\n",
    "\n",
    "plt.show()"
   ]
  },
  {
   "cell_type": "code",
   "execution_count": 36,
   "metadata": {
    "scrolled": false
   },
   "outputs": [
    {
     "name": "stdout",
     "output_type": "stream",
     "text": [
      "Cov_mat positive definite:  True\n",
      "tensor(0.6283)\n"
     ]
    },
    {
     "data": {
      "image/png": "[encoded data removed]",
      "text/plain": [
       "<Figure size 432x288 with 1 Axes>"
      ]
     },
     "metadata": {
      "needs_background": "light"
     },
     "output_type": "display_data"
    },
    {
     "data": {
      "image/png": "[encoded data removed]",
      "text/plain": [
       "<Figure size 432x288 with 2 Axes>"
      ]
     },
     "metadata": {
      "needs_background": "light"
     },
     "output_type": "display_data"
    }
   ],
   "source": [
    "%matplotlib inline\n",
    "\n",
    "x_data = torch.Tensor([1,2,3])\n",
    "y_data = torch.Tensor([0.9,1.1,3])\n",
    "\n",
    "basis = [const, linear]\n",
    "\n",
    "var1 = 1\n",
    "var2 = 1\n",
    "var3 = 1\n",
    "var12 = 0.6\n",
    "var13 = 0.5\n",
    "var23 = 0\n",
    "cov_mat = torch.Tensor([[var1, var12, var13],[var12, var2, var23],[var13, var23, var3]])\n",
    "inv_cov_mat = torch.inverse(cov_mat)\n",
    "\n",
    "print(\"Cov_mat positive definite: \",is_pos_def(cov_mat.numpy()))\n",
    "\n",
    "design_mat = design_matrix(x_data, basis)\n",
    "pseudo_inv = torch.inverse(design_mat.T @ inv_cov_mat @ design_mat) @ design_mat.T @ inv_cov_mat\n",
    "\n",
    "fit_params = ls_fit(x_data, y_data, pseudo_inv)\n",
    "\n",
    "fit = torch.sum(design_mat * fit_params, dim=1)\n",
    "\n",
    "chisq = chi_sq(y_data, fit_params, design_mat, inv_cov_mat)\n",
    "print(chisq)\n",
    "\n",
    "plt.errorbar(x_data, y_data, yerr=torch.sqrt(torch.diagonal(cov_mat)).numpy(), fmt='o')\n",
    "plt.plot(x_data, fit,'r')\n",
    "\n",
    "plt.xlabel(\"Independent Variable\")\n",
    "plt.ylabel(\"Dependent Variable\")\n",
    "plt.title(\"Linear Regression\")\n",
    "\n",
    "plt.savefig(\"linear_regression_sample.png\",dpi=400)\n",
    "plt.show()\n",
    "\n",
    "fit_params_cov_mat = pseudo_inv @ (cov_mat @ pseudo_inv.T)\n",
    "\n",
    "img = plt.imshow(fit_params_cov_mat)\n",
    "plt.colorbar(img)\n",
    "plt.show()"
   ]
  },
  {
   "cell_type": "code",
   "execution_count": 37,
   "metadata": {},
   "outputs": [
    {
     "name": "stdout",
     "output_type": "stream",
     "text": [
      "0.43794757\n"
     ]
    }
   ],
   "source": [
    "%matplotlib qt\n",
    "\n",
    "from matplotlib.colors import LightSource\n",
    "\n",
    "# First the ellipse\n",
    "\n",
    "u = np.linspace(0, 2 * np.pi, 100)\n",
    "v = np.linspace(0, np.pi, 100)\n",
    "\n",
    "x = np.outer(np.cos(u), np.sin(v))\n",
    "y = np.outer(np.sin(u), np.sin(v))\n",
    "z = np.outer(np.ones_like(u), np.cos(v))\n",
    "\n",
    "bias=np.array(y_data).T\n",
    "\n",
    "ellipsoid = (cov_mat.numpy() @ np.stack((x,y,z), 0).reshape(3,-1) + bias[:, np.newaxis]).reshape(3, *x.shape)\n",
    "\n",
    "fig = plt.figure()\n",
    "ax = fig.add_subplot(111, projection='3d')\n",
    "\n",
    "ls = LightSource(azdeg=0, altdeg=65)\n",
    "rgb = ls.shade(z, plt.cm.Blues)\n",
    "\n",
    "ax.plot_surface(*ellipsoid, rstride=4, cstride=4, color='b', alpha=0.5, facecolors=rgb,linewidth=0)\n",
    "\n",
    "# Set the axes to be equal\n",
    "set_axes_equal(ax)\n",
    "\n",
    "ax.set_aspect('equal')\n",
    "\n",
    "\n",
    "# Now the plane\n",
    "\n",
    "point = np.array([0,0,0])\n",
    "normal = np.array([x_data[1] - x_data[2], x_data[2] - x_data[0], x_data[0] - x_data[1]])\n",
    "\n",
    "d = -point.dot(normal)\n",
    "\n",
    "xx, yy = np.meshgrid(np.linspace(-1, 2, 10), np.linspace(-1, 2, 10))\n",
    "z = (-normal[0] * xx - normal[1] * yy - d) * 1. /normal[2]\n",
    "\n",
    "rgb = ls.shade(z, plt.cm.Reds)\n",
    "\n",
    "ax.plot_surface(xx, yy, z, color='r', alpha=0.2,facecolors=rgb,linewidth=0)\n",
    "\n",
    "ax.scatter(y_data[0].item(), y_data[1].item(), y_data[2].item(),'k')\n",
    "ax.scatter(fit[0].item(), fit[1].item(), fit[2].item(),'k')\n",
    "\n",
    "ax.plot(np.array([y_data[0].item(),fit[0].item()]), np.array([y_data[1].item(),fit[1].item()]), np.array([y_data[2].item(),fit[2].item()]), 'k')\n",
    "\n",
    "ax.set_xlabel('y1')\n",
    "ax.set_ylabel('y2')\n",
    "ax.set_zlabel('y3')\n",
    "\n",
    "plt.show()\n",
    "\n",
    "chi = y_data.numpy() - fit.numpy()\n",
    "print(np.arccos(np.abs(np.dot(chi, normal)) / (np.linalg.norm(chi) * np.linalg.norm(normal))))"
   ]
  },
  {
   "cell_type": "code",
   "execution_count": 56,
   "metadata": {},
   "outputs": [
    {
     "name": "stdout",
     "output_type": "stream",
     "text": [
      "Cov_mat positive definite:  True\n",
      "tensor(0.5186)\n"
     ]
    },
    {
     "data": {
      "image/png": "[encoded data removed]",
      "text/plain": [
       "<Figure size 432x288 with 1 Axes>"
      ]
     },
     "metadata": {
      "needs_background": "light"
     },
     "output_type": "display_data"
    },
    {
     "data": {
      "image/png": "[encoded data removed]",
      "text/plain": [
       "<Figure size 432x288 with 2 Axes>"
      ]
     },
     "metadata": {
      "needs_background": "light"
     },
     "output_type": "display_data"
    }
   ],
   "source": [
    "%matplotlib inline\n",
    "\n",
    "x_data = torch.Tensor([1,2])\n",
    "y_data = torch.Tensor([0.9,1.1])\n",
    "\n",
    "basis = [exp]\n",
    "\n",
    "var1 = 1\n",
    "var2 = 1\n",
    "var12 = 0.9\n",
    "cov_mat = torch.Tensor([[var1, var12],[var12, var2]])\n",
    "inv_cov_mat = torch.inverse(cov_mat)\n",
    "\n",
    "print(\"Cov_mat positive definite: \",is_pos_def(cov_mat.numpy()))\n",
    "\n",
    "design_mat = design_matrix(x_data, basis)\n",
    "pseudo_inv = torch.inverse(design_mat.T @ inv_cov_mat @ design_mat) @ design_mat.T @ inv_cov_mat\n",
    "\n",
    "fit_params = ls_fit(x_data, y_data, pseudo_inv)\n",
    "\n",
    "fit = torch.sum(design_mat * fit_params, dim=1)\n",
    "\n",
    "chisq = chi_sq(y_data, fit_params, design_mat, inv_cov_mat)\n",
    "print(chisq)\n",
    "\n",
    "plt.errorbar(x_data, y_data, yerr=torch.sqrt(torch.diagonal(cov_mat)).numpy(), fmt='o')\n",
    "plt.plot(x_data, fit,'r')\n",
    "\n",
    "plt.xlabel(\"Independent Variable\")\n",
    "plt.ylabel(\"Dependent Variable\")\n",
    "plt.title(\"Linear Regression\")\n",
    "\n",
    "plt.savefig(\"linear_regression_sample.png\",dpi=400)\n",
    "plt.show()\n",
    "\n",
    "fit_params_cov_mat = pseudo_inv @ (cov_mat @ pseudo_inv.T)\n",
    "\n",
    "img = plt.imshow(fit_params_cov_mat)\n",
    "plt.colorbar(img)\n",
    "plt.show()"
   ]
  },
  {
   "cell_type": "code",
   "execution_count": null,
   "metadata": {},
   "outputs": [],
   "source": []
  }
 ],
 "metadata": {
  "kernelspec": {
   "display_name": "Python 3",
   "language": "python",
   "name": "python3"
  },
  "language_info": {
   "codemirror_mode": {
    "name": "ipython",
    "version": 3
   },
   "file_extension": ".py",
   "mimetype": "text/x-python",
   "name": "python",
   "nbconvert_exporter": "python",
   "pygments_lexer": "ipython3",
   "version": "3.7.3"
  }
 },
 "nbformat": 4,
 "nbformat_minor": 2
}
