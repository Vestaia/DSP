{
 "cells": [
  {
   "cell_type": "code",
   "execution_count": 127,
   "metadata": {},
   "outputs": [],
   "source": [
    "import torch\n",
    "import torch.nn as nn\n",
    "import torch.nn.functional as F\n",
    "import torch.optim as optim\n",
    "import numpy as np\n",
    "import matplotlib.pyplot as plt\n",
    "\n",
    "class MSE(torch.nn.Module):\n",
    "    def __init__(self):\n",
    "        super().__init__()\n",
    "\n",
    "    def forward(self, y_t, y_prime_t):\n",
    "        error = torch.pow(y_t - y_prime_t, 2)\n",
    "        return torch.sum(error)\n",
    "    \n",
    "class LogCoshLoss(torch.nn.Module):\n",
    "    def __init__(self):\n",
    "        super().__init__()\n",
    "\n",
    "    def forward(self, y_t, y_prime_t):\n",
    "        ey_t = 10* (y_t - y_prime_t)\n",
    "        return torch.mean(torch.log(torch.cosh(ey_t)))\n",
    "\n",
    "def design_matrix(basis, times):\n",
    "    mat = torch.DoubleTensor([[func(time) for func in basis] for time in times])\n",
    "    return mat\n",
    "\n",
    "def pseudo_inverse(a):\n",
    "    return torch.linalg.pinv(a)\n",
    "\n",
    "def ls_fit(xdata, ydata, start_index, end_index, basis, design_mat = None):\n",
    "    if (design_mat == None):\n",
    "        design_mat = design_matrix(basis, xdata)\n",
    "    pseudo_inv = pseudo_inverse(design_mat[start_index:end_index])\n",
    "    return torch.sum(pseudo_inv * ydata[start_index:end_index],dim = 1)\n",
    "    \n",
    "class Slicer(nn.Module):\n",
    "    def __init__(self, segments, samples, xdata, basis):\n",
    "        super().__init__()\n",
    "        self.basis = basis\n",
    "        self.segments = segments\n",
    "        self.samples = samples\n",
    "        self.xdata = xdata\n",
    "        self.design_mat = design_matrix(self.basis, self.xdata)\n",
    "        self.register_parameter(name='slice_locations', param = torch.nn.Parameter(torch.sort(samples * torch.rand(segments - 1))[0]))\n",
    "        \n",
    "    \n",
    "    def forward(self, x):\n",
    "        # the network may have shuffled during optimisation these around and broken ordering\n",
    "        self.slice_locations = torch.nn.Parameter((torch.sort(self.slice_locations))[0])\n",
    "        \n",
    "        # extract from the input\n",
    "        target_fit = x[0,0]\n",
    "        \n",
    "        # to be indexed later\n",
    "        fitted = torch.zeros(self.samples)\n",
    "        \n",
    "        # furthest left segment\n",
    "        fitparams = ls_fit(self.xdata, target_fit, 0, int(self.slice_locations[0]), self.basis)\n",
    "        segment_fit = torch.DoubleTensor([torch.sum(torch.DoubleTensor([fitparams[i] * basis[i](time) for i in range(0, len(basis))])) for time in xdata[0:int(self.slice_locations[0])]])\n",
    "        fitted[0:int(self.slice_locations[0])] = segment_fit\n",
    "        \n",
    "        # furthest right segment\n",
    "        fitparams = ls_fit(self.xdata, target_fit, int(self.slice_locations[-1]), self.samples - 1, self.basis)\n",
    "        segment_fit = torch.DoubleTensor([torch.sum(torch.DoubleTensor([fitparams[i] * basis[i](time) for i in range(0, len(basis))])) for time in xdata[int(self.slice_locations[-1]):self.samples]])\n",
    "        fitted[self.slice_locations.int()[-1]:self.samples] = segment_fit\n",
    "        \n",
    "        # general case\n",
    "        for i in range(0, self.slice_locations.shape[0] - 1):\n",
    "            fitparams = ls_fit(self.xdata, target_fit, int(self.slice_locations[i]), int(self.slice_locations[i + 1]), self.basis)\n",
    "            segment_fit = torch.DoubleTensor([torch.sum(torch.DoubleTensor([fitparams[i] * basis[i](time) for i in range(0, len(basis))])) for time in xdata[int(self.slice_locations[i]):int(self.slice_locations[i + 1])]])\n",
    "            fitted[int(self.slice_locations[i]):int(self.slice_locations[i + 1])] = segment_fit\n",
    "        \n",
    "        return torch.ones(self.samples)[self.slice_locations[0]]\n",
    "\n",
    "def learn(net, optimizer, X, y, batch_size=1, device='cpu'):\n",
    "    torch.backends.cudnn.fastest = True\n",
    "    loss_func = MSE()\n",
    "    net.train()\n",
    "    \n",
    "    totalloss=0\n",
    "    batches = np.int(np.floor(len(X) / batch_size))\n",
    "    for batch in range(batches):\n",
    "            optimizer.zero_grad()\n",
    "            \n",
    "            tx = X[batch*batch_size:(batch+1)*batch_size].to(device)\n",
    "            ty = y[batch*batch_size:(batch+1)*batch_size].to(device)\n",
    "            \n",
    "            pred = net(tx)\n",
    "            loss = loss_func(pred, ty)\n",
    "            totalloss += loss.detach()\n",
    "            \n",
    "            loss.backward()\n",
    "            \n",
    "            optimizer.step()\n",
    "    loss = totalloss / batches\n",
    "    return loss.item()"
   ]
  },
  {
   "cell_type": "code",
   "execution_count": 98,
   "metadata": {},
   "outputs": [],
   "source": [
    "def const(x):\n",
    "    return 1\n",
    "\n",
    "def linear(x):\n",
    "    return x\n",
    "\n",
    "def quad(x):\n",
    "    return x ** 2\n",
    "\n",
    "def cubic(x):\n",
    "    return x ** 3\n",
    "\n",
    "def quartic(x):\n",
    "    return x ** 4\n",
    "\n",
    "def exp(x):\n",
    "    return torch.exp(x)"
   ]
  },
  {
   "cell_type": "code",
   "execution_count": 99,
   "metadata": {},
   "outputs": [
    {
     "data": {
      "text/plain": [
       "tensor(3.6348e-24, dtype=torch.float64)"
      ]
     },
     "execution_count": 99,
     "metadata": {},
     "output_type": "execute_result"
    }
   ],
   "source": [
    "xdata = torch.linspace(0, 10, 1001,dtype=torch.double)\n",
    "ydata = quad(xdata)\n",
    "basis = [const, linear, quad]\n",
    "\n",
    "fit_params = ls_fit(xdata, ydata, 0, 1001, basis)\n",
    "\n",
    "fit_sample = torch.DoubleTensor([torch.sum(torch.DoubleTensor([fit_params[i] * basis[i](time) for i in range(0,len(basis))])) for time in xdata])\n",
    "\n",
    "errfunc = MSE()\n",
    "errfunc.forward(fit_sample, ydata)"
   ]
  },
  {
   "cell_type": "code",
   "execution_count": 128,
   "metadata": {},
   "outputs": [
    {
     "ename": "RuntimeError",
     "evalue": "the derivative for 'indices' is not implemented",
     "output_type": "error",
     "traceback": [
      "\u001b[0;31m---------------------------------------------------------------------------\u001b[0m",
      "\u001b[0;31mRuntimeError\u001b[0m                              Traceback (most recent call last)",
      "\u001b[0;32m<ipython-input-128-574bd87f333a>\u001b[0m in \u001b[0;36m<module>\u001b[0;34m\u001b[0m\n\u001b[1;32m      2\u001b[0m \u001b[0mslicer\u001b[0m \u001b[0;34m=\u001b[0m \u001b[0mSlicer\u001b[0m\u001b[0;34m(\u001b[0m\u001b[0;36m10\u001b[0m\u001b[0;34m,\u001b[0m \u001b[0;36m1001\u001b[0m\u001b[0;34m,\u001b[0m \u001b[0mxdata\u001b[0m\u001b[0;34m,\u001b[0m \u001b[0mbasis\u001b[0m\u001b[0;34m)\u001b[0m\u001b[0;34m\u001b[0m\u001b[0;34m\u001b[0m\u001b[0m\n\u001b[1;32m      3\u001b[0m \u001b[0;34m\u001b[0m\u001b[0m\n\u001b[0;32m----> 4\u001b[0;31m \u001b[0mfit\u001b[0m \u001b[0;34m=\u001b[0m \u001b[0mslicer\u001b[0m\u001b[0;34m(\u001b[0m\u001b[0mydata\u001b[0m\u001b[0;34m.\u001b[0m\u001b[0mview\u001b[0m\u001b[0;34m(\u001b[0m\u001b[0;34m(\u001b[0m\u001b[0;36m1\u001b[0m\u001b[0;34m,\u001b[0m \u001b[0;36m1\u001b[0m\u001b[0;34m,\u001b[0m \u001b[0mydata\u001b[0m\u001b[0;34m.\u001b[0m\u001b[0mshape\u001b[0m\u001b[0;34m[\u001b[0m\u001b[0;36m0\u001b[0m\u001b[0;34m]\u001b[0m\u001b[0;34m)\u001b[0m\u001b[0;34m)\u001b[0m\u001b[0;34m)\u001b[0m\u001b[0;34m\u001b[0m\u001b[0;34m\u001b[0m\u001b[0m\n\u001b[0m\u001b[1;32m      5\u001b[0m \u001b[0;34m\u001b[0m\u001b[0m\n\u001b[1;32m      6\u001b[0m \u001b[0mprint\u001b[0m\u001b[0;34m(\u001b[0m\u001b[0mfit\u001b[0m\u001b[0;34m)\u001b[0m\u001b[0;34m\u001b[0m\u001b[0;34m\u001b[0m\u001b[0m\n",
      "\u001b[0;32m~/anaconda3/lib/python3.7/site-packages/torch/nn/modules/module.py\u001b[0m in \u001b[0;36m_call_impl\u001b[0;34m(self, *input, **kwargs)\u001b[0m\n\u001b[1;32m   1049\u001b[0m         if not (self._backward_hooks or self._forward_hooks or self._forward_pre_hooks or _global_backward_hooks\n\u001b[1;32m   1050\u001b[0m                 or _global_forward_hooks or _global_forward_pre_hooks):\n\u001b[0;32m-> 1051\u001b[0;31m             \u001b[0;32mreturn\u001b[0m \u001b[0mforward_call\u001b[0m\u001b[0;34m(\u001b[0m\u001b[0;34m*\u001b[0m\u001b[0minput\u001b[0m\u001b[0;34m,\u001b[0m \u001b[0;34m**\u001b[0m\u001b[0mkwargs\u001b[0m\u001b[0;34m)\u001b[0m\u001b[0;34m\u001b[0m\u001b[0;34m\u001b[0m\u001b[0m\n\u001b[0m\u001b[1;32m   1052\u001b[0m         \u001b[0;31m# Do not call functions when jit is used\u001b[0m\u001b[0;34m\u001b[0m\u001b[0;34m\u001b[0m\u001b[0;34m\u001b[0m\u001b[0m\n\u001b[1;32m   1053\u001b[0m         \u001b[0mfull_backward_hooks\u001b[0m\u001b[0;34m,\u001b[0m \u001b[0mnon_full_backward_hooks\u001b[0m \u001b[0;34m=\u001b[0m \u001b[0;34m[\u001b[0m\u001b[0;34m]\u001b[0m\u001b[0;34m,\u001b[0m \u001b[0;34m[\u001b[0m\u001b[0;34m]\u001b[0m\u001b[0;34m\u001b[0m\u001b[0;34m\u001b[0m\u001b[0m\n",
      "\u001b[0;32m<ipython-input-127-38e391ce853b>\u001b[0m in \u001b[0;36mforward\u001b[0;34m(self, x)\u001b[0m\n\u001b[1;32m     72\u001b[0m             \u001b[0mfitted\u001b[0m\u001b[0;34m[\u001b[0m\u001b[0mint\u001b[0m\u001b[0;34m(\u001b[0m\u001b[0mself\u001b[0m\u001b[0;34m.\u001b[0m\u001b[0mslice_locations\u001b[0m\u001b[0;34m[\u001b[0m\u001b[0mi\u001b[0m\u001b[0;34m]\u001b[0m\u001b[0;34m)\u001b[0m\u001b[0;34m:\u001b[0m\u001b[0mint\u001b[0m\u001b[0;34m(\u001b[0m\u001b[0mself\u001b[0m\u001b[0;34m.\u001b[0m\u001b[0mslice_locations\u001b[0m\u001b[0;34m[\u001b[0m\u001b[0mi\u001b[0m \u001b[0;34m+\u001b[0m \u001b[0;36m1\u001b[0m\u001b[0;34m]\u001b[0m\u001b[0;34m)\u001b[0m\u001b[0;34m]\u001b[0m \u001b[0;34m=\u001b[0m \u001b[0msegment_fit\u001b[0m\u001b[0;34m\u001b[0m\u001b[0;34m\u001b[0m\u001b[0m\n\u001b[1;32m     73\u001b[0m \u001b[0;34m\u001b[0m\u001b[0m\n\u001b[0;32m---> 74\u001b[0;31m         \u001b[0;32mreturn\u001b[0m \u001b[0mtorch\u001b[0m\u001b[0;34m.\u001b[0m\u001b[0mones\u001b[0m\u001b[0;34m(\u001b[0m\u001b[0mself\u001b[0m\u001b[0;34m.\u001b[0m\u001b[0msamples\u001b[0m\u001b[0;34m)\u001b[0m\u001b[0;34m[\u001b[0m\u001b[0mself\u001b[0m\u001b[0;34m.\u001b[0m\u001b[0mslice_locations\u001b[0m\u001b[0;34m[\u001b[0m\u001b[0;36m0\u001b[0m\u001b[0;34m]\u001b[0m\u001b[0;34m]\u001b[0m\u001b[0;34m\u001b[0m\u001b[0;34m\u001b[0m\u001b[0m\n\u001b[0m\u001b[1;32m     75\u001b[0m \u001b[0;34m\u001b[0m\u001b[0m\n\u001b[1;32m     76\u001b[0m \u001b[0;32mdef\u001b[0m \u001b[0mlearn\u001b[0m\u001b[0;34m(\u001b[0m\u001b[0mnet\u001b[0m\u001b[0;34m,\u001b[0m \u001b[0moptimizer\u001b[0m\u001b[0;34m,\u001b[0m \u001b[0mX\u001b[0m\u001b[0;34m,\u001b[0m \u001b[0my\u001b[0m\u001b[0;34m,\u001b[0m \u001b[0mbatch_size\u001b[0m\u001b[0;34m=\u001b[0m\u001b[0;36m1\u001b[0m\u001b[0;34m,\u001b[0m \u001b[0mdevice\u001b[0m\u001b[0;34m=\u001b[0m\u001b[0;34m'cpu'\u001b[0m\u001b[0;34m)\u001b[0m\u001b[0;34m:\u001b[0m\u001b[0;34m\u001b[0m\u001b[0;34m\u001b[0m\u001b[0m\n",
      "\u001b[0;31mRuntimeError\u001b[0m: the derivative for 'indices' is not implemented"
     ]
    }
   ],
   "source": [
    "basis = [const]\n",
    "slicer = Slicer(10, 1001, xdata, basis)\n",
    "\n",
    "fit = slicer(ydata.view((1, 1, ydata.shape[0])))\n",
    "\n",
    "print(fit)\n",
    "\n",
    "# plt.plot(xdata, fit)\n",
    "# plt.plot(xdata, ydata)\n",
    "# plt.show()\n",
    "\n",
    "mse = LogCoshLoss()\n",
    "\n",
    "loss = mse(fit, ydata)\n",
    "\n",
    "loss.backward()"
   ]
  },
  {
   "cell_type": "code",
   "execution_count": null,
   "metadata": {},
   "outputs": [],
   "source": []
  }
 ],
 "metadata": {
  "kernelspec": {
   "display_name": "Python 3",
   "language": "python",
   "name": "python3"
  },
  "language_info": {
   "codemirror_mode": {
    "name": "ipython",
    "version": 3
   },
   "file_extension": ".py",
   "mimetype": "text/x-python",
   "name": "python",
   "nbconvert_exporter": "python",
   "pygments_lexer": "ipython3",
   "version": "3.7.3"
  }
 },
 "nbformat": 4,
 "nbformat_minor": 2
}
